{
 "cells": [
  {
   "cell_type": "code",
   "execution_count": 139,
   "metadata": {},
   "outputs": [],
   "source": [
    "import numpy as np; import numba as nb; import math; import cmath\n",
    "\n",
    "def gen_basis_state(n_states: int):\n",
    "    return np.eye(n_states)\n",
    "\n",
    "def normalize_states_np(coefficients: np.ndarray[complex]):\n",
    "    if len(coefficients.shape) > 1:\n",
    "        raise Exception('coefficients array needs to be 1D')\n",
    "    euclidean_norm = np.sum(np.abs(coefficients)**2)\n",
    "    return coefficients/ math.sqrt(euclidean_norm) # Euclidean norm should be real  and > 0 hence using math library will throw error if obtains a complex value or value <0\n",
    "\n",
    "@nb.njit(['c16[:](c16[:])', 'f8[:](f8[:])'], parallel = True)\n",
    "def normalize_states_numba(coefficients: np.ndarray[complex]):\n",
    "\n",
    "    if len(coefficients.shape) > 1:\n",
    "        raise Exception('coefficients array needs to be 1D')\n",
    "    \n",
    "    euclidean_norm = 0\n",
    "    for i in nb.prange(coefficients.size):\n",
    "        euclidean_norm += abs(coefficients[i])**2\n",
    "\n",
    "    for i in nb.prange(coefficients.size):\n",
    "        coefficients[i] /= math.sqrt(euclidean_norm)\n",
    "    return coefficients\n",
    "\n",
    "def inner_product_np(state1: np.ndarray[complex], state2: np.ndarray[complex]):\n",
    "    if (len(state1.shape) > 1) | (len(state2.shape) > 1):\n",
    "        raise Exception('state arrays needs to be 1D')\n",
    "    if state1.size != state2.size:\n",
    "        raise Exception('state arrays need to be same size')\n",
    "    return np.dot(np.conj(state1), state2)\n",
    "\n",
    "@nb.njit(['c16(c16[:], c16[:])','f8(c16[:], c16[:])', 'f8(f8[:], f8[:])'])\n",
    "def inner_product_numba(state1: np.ndarray[complex], state2: np.ndarray[complex]):\n",
    "    if (len(state1.shape) > 1) | (len(state2.shape) > 1):\n",
    "        raise Exception('state arrays needs to be 1D')\n",
    "    if state1.size != state2.size:\n",
    "        raise Exception('state arrays need to be same size')\n",
    "    inner_prod = 0\n",
    "    for i in range(state1.size):\n",
    "        inner_prod += state1[i].conjugate()*state2[i]\n",
    "    return inner_prod\n",
    "\n",
    "def measure_state_np(state: np.ndarray[complex], measurements: int): # lazy implementation\n",
    "    if len(state.shape) > 1:\n",
    "        raise Exception('state array needs to be 1D')\n",
    "    return np.random.choice(np.arange(state.size), p = np.abs(state)**2, size = measurements)\n",
    "\n",
    "@nb.njit(['uint32[:](c16[:], uint32)', 'uint32[:](f8[:], uint32)'], parallel = True) # could be optimised\n",
    "def measure_state_numba(state: np.ndarray[complex], measurements: int):\n",
    "    if len(state.shape) > 1:\n",
    "        raise Exception('state array needs to be 1D')\n",
    "    random_uniform = np.random.rand(measurements)\n",
    "    indexes = np.arange(state.size)\n",
    "    cumulative_probability_density = np.cumsum(np.abs(state)**2)\n",
    "    template = np.empty(measurements, dtype=np.uint32)\n",
    "    for i in nb.prange(measurements):\n",
    "        for j in range(state.size):\n",
    "            if j == 0:\n",
    "                if (random_uniform[i] > 0) & (random_uniform[i] < cumulative_probability_density[j]):\n",
    "                    template[i] = indexes[j]\n",
    "            elif j < (state.size - 1):\n",
    "                if (random_uniform[i] > cumulative_probability_density[j-1]) & (random_uniform[i] < cumulative_probability_density[j]):\n",
    "                    template[i] = indexes[j]\n",
    "            elif j == (state.size - 1):\n",
    "                if (random_uniform[i] > cumulative_probability_density[j-1]) & (random_uniform[i] < 1):\n",
    "                    template[i] = indexes[j]\n",
    "    return template\n",
    "\n",
    "@nb.njit(['c16[:](c16[:,:], c16[:])', 'f8[:](f8[:,:], f8[:])', 'f8[:](c16[:,:], c16[:])'], parallel = True)\n",
    "def apply_unitary_transform(unitary_matrix, state):\n",
    "    if len(state.shape) > 1:\n",
    "        raise Exception('state array needs to be 1D')\n",
    "    if (unitary_matrix.shape[0] != state.size) | (unitary_matrix.shape[1] != state.size):\n",
    "        raise Exception('unitary matrix and state must have have same size across all dimensions')\n",
    "    new_state = np.empty_like(state)\n",
    "    for i in nb.prange(unitary_matrix.shape[0]):\n",
    "        tmp = 0\n",
    "        for j in range(unitary_matrix.shape[1]):\n",
    "            tmp += unitary_matrix[i,j] * state[j]\n",
    "        new_state[i] = tmp\n",
    "    return new_state\n",
    "\n",
    "def apply_quantum_algorithm(state_0, unitary_matrix, measurements):\n",
    "    new_state = apply_unitary_transform(unitary_matrix, state_0)\n",
    "    return measure_state_numba(new_state, measurements)\n",
    "    \n"
   ]
  },
  {
   "cell_type": "code",
   "execution_count": 62,
   "metadata": {},
   "outputs": [
    {
     "name": "stdout",
     "output_type": "stream",
     "text": [
      "0.9999999999999999\n"
     ]
    }
   ],
   "source": [
    "tests = 4\n",
    "test_state = np.random.rand(tests) + np.random.rand(tests)*1j\n",
    "norm_test_state = normalize_states_numba(test_state)\n",
    "\n",
    "print(np.linalg.norm(norm_test_state))"
   ]
  },
  {
   "cell_type": "code",
   "execution_count": 63,
   "metadata": {},
   "outputs": [
    {
     "name": "stdout",
     "output_type": "stream",
     "text": [
      "618 µs ± 14.2 µs per loop (mean ± std. dev. of 7 runs, 1,000 loops each)\n"
     ]
    },
    {
     "ename": "KeyboardInterrupt",
     "evalue": "",
     "output_type": "error",
     "traceback": [
      "\u001b[1;31m---------------------------------------------------------------------------\u001b[0m",
      "\u001b[1;31mKeyboardInterrupt\u001b[0m                         Traceback (most recent call last)",
      "Cell \u001b[1;32mIn[63], line 4\u001b[0m\n\u001b[0;32m      2\u001b[0m test_state \u001b[38;5;241m=\u001b[39m np\u001b[38;5;241m.\u001b[39mrandom\u001b[38;5;241m.\u001b[39mrand(tests) \u001b[38;5;241m+\u001b[39m np\u001b[38;5;241m.\u001b[39mrandom\u001b[38;5;241m.\u001b[39mrand(tests)\u001b[38;5;241m*\u001b[39m\u001b[38;5;241m1\u001b[39mj\n\u001b[0;32m      3\u001b[0m get_ipython()\u001b[38;5;241m.\u001b[39mrun_line_magic(\u001b[38;5;124m'\u001b[39m\u001b[38;5;124mtimeit\u001b[39m\u001b[38;5;124m'\u001b[39m, \u001b[38;5;124m'\u001b[39m\u001b[38;5;124mnormalize_states_np(test_values)\u001b[39m\u001b[38;5;124m'\u001b[39m)\n\u001b[1;32m----> 4\u001b[0m get_ipython()\u001b[38;5;241m.\u001b[39mrun_line_magic(\u001b[38;5;124m'\u001b[39m\u001b[38;5;124mtimeit\u001b[39m\u001b[38;5;124m'\u001b[39m, \u001b[38;5;124m'\u001b[39m\u001b[38;5;124mnormalize_states_numba(test_values)\u001b[39m\u001b[38;5;124m'\u001b[39m)\n\u001b[0;32m      5\u001b[0m get_ipython()\u001b[38;5;241m.\u001b[39mrun_line_magic(\u001b[38;5;124m'\u001b[39m\u001b[38;5;124mtimeit\u001b[39m\u001b[38;5;124m'\u001b[39m, \u001b[38;5;124m'\u001b[39m\u001b[38;5;124mnormalize_states_numba_p(test_values)\u001b[39m\u001b[38;5;124m'\u001b[39m)\n",
      "File \u001b[1;32mc:\\Users\\theod\\anaconda3\\Lib\\site-packages\\IPython\\core\\interactiveshell.py:2456\u001b[0m, in \u001b[0;36mInteractiveShell.run_line_magic\u001b[1;34m(self, magic_name, line, _stack_depth)\u001b[0m\n\u001b[0;32m   2454\u001b[0m     kwargs[\u001b[38;5;124m'\u001b[39m\u001b[38;5;124mlocal_ns\u001b[39m\u001b[38;5;124m'\u001b[39m] \u001b[38;5;241m=\u001b[39m \u001b[38;5;28mself\u001b[39m\u001b[38;5;241m.\u001b[39mget_local_scope(stack_depth)\n\u001b[0;32m   2455\u001b[0m \u001b[38;5;28;01mwith\u001b[39;00m \u001b[38;5;28mself\u001b[39m\u001b[38;5;241m.\u001b[39mbuiltin_trap:\n\u001b[1;32m-> 2456\u001b[0m     result \u001b[38;5;241m=\u001b[39m fn(\u001b[38;5;241m*\u001b[39margs, \u001b[38;5;241m*\u001b[39m\u001b[38;5;241m*\u001b[39mkwargs)\n\u001b[0;32m   2458\u001b[0m \u001b[38;5;66;03m# The code below prevents the output from being displayed\u001b[39;00m\n\u001b[0;32m   2459\u001b[0m \u001b[38;5;66;03m# when using magics with decorator @output_can_be_silenced\u001b[39;00m\n\u001b[0;32m   2460\u001b[0m \u001b[38;5;66;03m# when the last Python token in the expression is a ';'.\u001b[39;00m\n\u001b[0;32m   2461\u001b[0m \u001b[38;5;28;01mif\u001b[39;00m \u001b[38;5;28mgetattr\u001b[39m(fn, magic\u001b[38;5;241m.\u001b[39mMAGIC_OUTPUT_CAN_BE_SILENCED, \u001b[38;5;28;01mFalse\u001b[39;00m):\n",
      "File \u001b[1;32mc:\\Users\\theod\\anaconda3\\Lib\\site-packages\\IPython\\core\\magics\\execution.py:1185\u001b[0m, in \u001b[0;36mExecutionMagics.timeit\u001b[1;34m(self, line, cell, local_ns)\u001b[0m\n\u001b[0;32m   1183\u001b[0m \u001b[38;5;28;01mfor\u001b[39;00m index \u001b[38;5;129;01min\u001b[39;00m \u001b[38;5;28mrange\u001b[39m(\u001b[38;5;241m0\u001b[39m, \u001b[38;5;241m10\u001b[39m):\n\u001b[0;32m   1184\u001b[0m     number \u001b[38;5;241m=\u001b[39m \u001b[38;5;241m10\u001b[39m \u001b[38;5;241m*\u001b[39m\u001b[38;5;241m*\u001b[39m index\n\u001b[1;32m-> 1185\u001b[0m     time_number \u001b[38;5;241m=\u001b[39m timer\u001b[38;5;241m.\u001b[39mtimeit(number)\n\u001b[0;32m   1186\u001b[0m     \u001b[38;5;28;01mif\u001b[39;00m time_number \u001b[38;5;241m>\u001b[39m\u001b[38;5;241m=\u001b[39m \u001b[38;5;241m0.2\u001b[39m:\n\u001b[0;32m   1187\u001b[0m         \u001b[38;5;28;01mbreak\u001b[39;00m\n",
      "File \u001b[1;32mc:\\Users\\theod\\anaconda3\\Lib\\site-packages\\IPython\\core\\magics\\execution.py:173\u001b[0m, in \u001b[0;36mTimer.timeit\u001b[1;34m(self, number)\u001b[0m\n\u001b[0;32m    171\u001b[0m gc\u001b[38;5;241m.\u001b[39mdisable()\n\u001b[0;32m    172\u001b[0m \u001b[38;5;28;01mtry\u001b[39;00m:\n\u001b[1;32m--> 173\u001b[0m     timing \u001b[38;5;241m=\u001b[39m \u001b[38;5;28mself\u001b[39m\u001b[38;5;241m.\u001b[39minner(it, \u001b[38;5;28mself\u001b[39m\u001b[38;5;241m.\u001b[39mtimer)\n\u001b[0;32m    174\u001b[0m \u001b[38;5;28;01mfinally\u001b[39;00m:\n\u001b[0;32m    175\u001b[0m     \u001b[38;5;28;01mif\u001b[39;00m gcold:\n",
      "File \u001b[1;32m<magic-timeit>:1\u001b[0m, in \u001b[0;36minner\u001b[1;34m(_it, _timer)\u001b[0m\n",
      "\u001b[1;31mKeyboardInterrupt\u001b[0m: "
     ]
    }
   ],
   "source": [
    "tests = 100000\n",
    "test_state = np.random.rand(tests) + np.random.rand(tests)*1j\n",
    "\n",
    "%timeit normalize_states_np(test_values)\n",
    "%timeit normalize_states_numba(test_values)\n",
    "%timeit normalize_states_numba_p(test_values)"
   ]
  },
  {
   "cell_type": "code",
   "execution_count": 55,
   "metadata": {},
   "outputs": [
    {
     "name": "stdout",
     "output_type": "stream",
     "text": [
      "1.0\n",
      "0.0\n",
      "0.0\n",
      "1.0\n"
     ]
    }
   ],
   "source": [
    "basis = gen_basis_state(2)\n",
    "print(inner_product_numba(basis[0], basis[0]))\n",
    "print(inner_product_numba(basis[0], basis[1]))\n",
    "print(inner_product_numba(basis[1], basis[0]))\n",
    "print(inner_product_numba(basis[1], basis[1]))"
   ]
  },
  {
   "cell_type": "code",
   "execution_count": 45,
   "metadata": {},
   "outputs": [
    {
     "name": "stdout",
     "output_type": "stream",
     "text": [
      "449 µs ± 6.86 µs per loop (mean ± std. dev. of 7 runs, 1,000 loops each)\n",
      "79.3 µs ± 1.32 µs per loop (mean ± std. dev. of 7 runs, 10,000 loops each)\n"
     ]
    }
   ],
   "source": [
    "tests = 100000\n",
    "test_state1 = np.random.rand(tests) + np.random.rand(tests)*1j\n",
    "test_state2 = np.random.rand(tests) + np.random.rand(tests)*1j\n",
    "norm_test_state1 = normalize_states_numba(test_state1)\n",
    "norm_test_state2 = normalize_states_numba(test_state2)\n",
    "\n",
    "%timeit inner_product_np(norm_test_state1, norm_test_state2)\n",
    "%timeit inner_product_numba(norm_test_state1, norm_test_state2)\n"
   ]
  },
  {
   "cell_type": "code",
   "execution_count": 124,
   "metadata": {},
   "outputs": [
    {
     "name": "stdout",
     "output_type": "stream",
     "text": [
      "658 µs ± 43.2 µs per loop (mean ± std. dev. of 7 runs, 1,000 loops each)\n",
      "3.61 ms ± 117 µs per loop (mean ± std. dev. of 7 runs, 100 loops each)\n"
     ]
    },
    {
     "data": {
      "text/plain": [
       "<BarContainer object of 40 artists>"
      ]
     },
     "execution_count": 124,
     "metadata": {},
     "output_type": "execute_result"
    },
    {
     "data": {
      "image/png": "[encoded data removed]",
      "text/plain": [
       "<Figure size 640x480 with 1 Axes>"
      ]
     },
     "metadata": {},
     "output_type": "display_data"
    }
   ],
   "source": [
    "import matplotlib.pyplot as plt\n",
    "tests = 40\n",
    "measurements = 100000\n",
    "test_state = np.ones(tests) + np.ones(tests)*1j\n",
    "output = measure_state_numba(norm_test_state, 100000)\n",
    "np.histogram(output)\n",
    "hist = np.histogram(measure_state_numba(norm_test_state, 100000),bins= np.arange(tests+1))\n",
    "plt.bar(np.arange(tests), hist[0])\n",
    "\n",
    "%timeit measure_state_numba(norm_test_state, 100000)\n",
    "%timeit measure_state_np(norm_test_state, 100000)"
   ]
  },
  {
   "cell_type": "code",
   "execution_count": 136,
   "metadata": {},
   "outputs": [
    {
     "name": "stdout",
     "output_type": "stream",
     "text": [
      "[1. 0.]\n",
      "[0.70710678 0.70710678]\n"
     ]
    }
   ],
   "source": [
    "unitary_matrix = np.array(((1,1),(1,-1)))/ np.sqrt(2)\n",
    "\n",
    "basis = gen_basis_state(2)\n",
    "print(basis[0])\n",
    "out = apply_unitary_transform(unitary_matrix, basis[0])\n",
    "print(out)"
   ]
  },
  {
   "cell_type": "code",
   "execution_count": 141,
   "metadata": {},
   "outputs": [
    {
     "name": "stdout",
     "output_type": "stream",
     "text": [
      "[1 0 1 1 0 1 0 0 1 0 1 0 0 0 1 0 1 1 0 1 1 1 0 0 0 1 0 1 0 1 0 0 0 0 1 1 0\n",
      " 1 1 0 1 1 0 1 0 0 0 1 0 0 0 0 1 1 1 1 1 0 0 1 0 0 0 1 0 1 1 0 1 0 0 1 0 1\n",
      " 0 1 0 0 1 0 0 1 1 1 1 1 0 0 0 1 0 1 1 0 0 0 1 1 0 1]\n"
     ]
    }
   ],
   "source": [
    "basis = gen_basis_state(2)\n",
    "unitary_matrix = np.array(((1,1),(1,-1)))/ np.sqrt(2)\n",
    "measurements = 100\n",
    "meas_lst = apply_quantum_algorithm(basis[0], unitary_matrix, 100)\n",
    "print(meas_lst)"
   ]
  }
 ],
 "metadata": {
  "kernelspec": {
   "display_name": "base",
   "language": "python",
   "name": "python3"
  },
  "language_info": {
   "codemirror_mode": {
    "name": "ipython",
    "version": 3
   },
   "file_extension": ".py",
   "mimetype": "text/x-python",
   "name": "python",
   "nbconvert_exporter": "python",
   "pygments_lexer": "ipython3",
   "version": "3.11.7"
  }
 },
 "nbformat": 4,
 "nbformat_minor": 2
}
