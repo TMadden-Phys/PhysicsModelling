{
 "cells": [
  {
   "attachments": {},
   "cell_type": "markdown",
   "metadata": {},
   "source": [
    "Testing the sample size needed to get an accurate/ stable standard deviation value"
   ]
  },
  {
   "cell_type": "code",
   "execution_count": 19,
   "metadata": {},
   "outputs": [
    {
     "name": "stdout",
     "output_type": "stream",
     "text": [
      "complete run 1\n",
      "complete run 2\n",
      "complete run 3\n",
      "complete run 4\n",
      "complete run 5\n",
      "complete run 6\n",
      "complete run 7\n",
      "complete run 8\n",
      "complete run 9\n",
      "complete run 10\n",
      "[[1.50487351]\n",
      " [1.42937836]\n",
      " [1.49671293]\n",
      " [1.56377803]\n",
      " [1.81836331]\n",
      " [1.46335913]\n",
      " [1.43539889]\n",
      " [1.56309545]\n",
      " [1.50952878]\n",
      " [1.51375898]]\n",
      "0.10551144794587178\n"
     ]
    }
   ],
   "source": [
    "import matplotlib.pyplot as plt\n",
    "import numpy as np\n",
    "# imports my own created library\n",
    "import ChargedDisk.Simulation as sim\n",
    "from ChargedDisk.BaseFuncs import Mult_pass as MP\n",
    "from ChargedDisk.BaseFuncs import Single_pass as SP\n",
    "\n",
    "# random walk sim\n",
    "def walk(walkers: int, steps = 100, dims = 3, delta = 1):\n",
    "    walks = 2*np.random.rand(walkers,steps, dims)-1\n",
    "    walks *= delta\n",
    "    dist = np.cumsum(walks, axis = 1)\n",
    "    return dist\n",
    "\n",
    "\n",
    "''' This whole piece of code was used to try and increase the accuracy of dervied values but ran into major Ram issues as discussed'''\n",
    "disk_radius = 100\n",
    "num_charges = 20\n",
    "accuracies = np.arange(6,7, 1)\n",
    "reruns = 10\n",
    "sigma_lst = np.zeros((reruns,accuracies.shape[0]))\n",
    "for i in range(reruns):\n",
    "    for index, accuracy in enumerate(accuracies):\n",
    "        sample_size = np.power(10,accuracy)\n",
    "        charges = MP.gen_coords(sample_size, disk_radius, num_charges)\n",
    "        if accuracy >= 6:\n",
    "            #splitting the array to reduce the size of arrays\n",
    "            split_arr = np.split(charges,int(sample_size/np.power(10,6)))\n",
    "            energies = np.squeeze(np.round(MP.calc_energy(split_arr[0], charge=1), accuracy))\n",
    "            for arr in range(1,len(split_arr)):        \n",
    "                energies = np.concatenate((energies,np.squeeze(np.round(MP.calc_energy(split_arr[arr], charge=1), accuracy)))) # calculate the energies to the degree of accuracy\n",
    "        else:\n",
    "            energies = np.squeeze(np.round(MP.calc_energy(charges, charge=1), accuracy))\n",
    "        \n",
    "        sigma = np.std(energies) # calculate the standard deviation\n",
    "        sigma_lst[i,index] = sigma\n",
    "    print('complete run {}'.format(i+1))\n",
    "print(sigma_lst)\n",
    "print(np.std(sigma_lst[:,-1]))"
   ]
  },
  {
   "cell_type": "code",
   "execution_count": null,
   "metadata": {},
   "outputs": [],
   "source": [
    "import numpy as np\n",
    "\n",
    "# simple program to calculate the chance of getting a move within a certain distance\n",
    "samples = 300000000\n",
    "test = np.random.uniform(-1,1, size = (samples,2))\n",
    "test *= 3\n",
    "\n",
    "index = np.all(test < 0.5, axis = -1)\n",
    "index2 = np.all(test > -0.5,axis = -1)\n",
    "print(test[index&index2].shape[0]/samples)"
   ]
  },
  {
   "attachments": {},
   "cell_type": "markdown",
   "metadata": {},
   "source": [
    "Tried basic chunking of the arrays, this still led to unstable results, there is no easy way to make this code run stably on my machine without carefully analysing the memory data of each array generation and so on and so forth. Not worth the time that I could spend looking at the actual physics.\n",
    "\n",
    "Using a for loop would remove the memory issue but i would then be calculating upwards of 38 billion values with a for loop, which would take way too long."
   ]
  },
  {
   "attachments": {},
   "cell_type": "markdown",
   "metadata": {},
   "source": [
    "Testing the random walk to find how many walkers to get a stable 95% value"
   ]
  },
  {
   "cell_type": "code",
   "execution_count": 26,
   "metadata": {},
   "outputs": [
    {
     "ename": "MemoryError",
     "evalue": "Unable to allocate 23.8 GiB for an array with shape (100000, 16000, 2) and data type float64",
     "output_type": "error",
     "traceback": [
      "\u001b[1;31m---------------------------------------------------------------------------\u001b[0m",
      "\u001b[1;31mMemoryError\u001b[0m                               Traceback (most recent call last)",
      "\u001b[1;32m~\\AppData\\Local\\Temp\\ipykernel_32756\\4166383342.py\u001b[0m in \u001b[0;36m<module>\u001b[1;34m\u001b[0m\n\u001b[0;32m      8\u001b[0m \u001b[0mtotal_steps\u001b[0m \u001b[1;33m=\u001b[0m \u001b[1;36m80000\u001b[0m \u001b[1;31m# the initial total steps needed so that charges will move across the radius of the disk\u001b[0m\u001b[1;33m\u001b[0m\u001b[1;33m\u001b[0m\u001b[0m\n\u001b[0;32m      9\u001b[0m \u001b[0msteps\u001b[0m \u001b[1;33m=\u001b[0m \u001b[0mint\u001b[0m\u001b[1;33m(\u001b[0m\u001b[0mtotal_steps\u001b[0m\u001b[1;33m/\u001b[0m\u001b[0mnum_charges\u001b[0m\u001b[1;33m)\u001b[0m \u001b[1;31m# get the step needed per charge\u001b[0m\u001b[1;33m\u001b[0m\u001b[1;33m\u001b[0m\u001b[0m\n\u001b[1;32m---> 10\u001b[1;33m \u001b[0mdistances\u001b[0m \u001b[1;33m=\u001b[0m \u001b[0mwalk\u001b[0m\u001b[1;33m(\u001b[0m\u001b[0mwalkers\u001b[0m\u001b[1;33m,\u001b[0m \u001b[0msteps\u001b[0m\u001b[1;33m,\u001b[0m \u001b[0mdims\u001b[0m\u001b[1;33m,\u001b[0m \u001b[0mdelta\u001b[0m \u001b[1;33m=\u001b[0m \u001b[0mdelta\u001b[0m\u001b[1;33m)\u001b[0m \u001b[1;31m# return the random walk data\u001b[0m\u001b[1;33m\u001b[0m\u001b[1;33m\u001b[0m\u001b[0m\n\u001b[0m\u001b[0;32m     11\u001b[0m \u001b[0mdistances\u001b[0m \u001b[1;33m=\u001b[0m \u001b[0mnp\u001b[0m\u001b[1;33m.\u001b[0m\u001b[0mlinalg\u001b[0m\u001b[1;33m.\u001b[0m\u001b[0mnorm\u001b[0m\u001b[1;33m(\u001b[0m\u001b[0mdistances\u001b[0m\u001b[1;33m,\u001b[0m\u001b[0maxis\u001b[0m\u001b[1;33m=\u001b[0m\u001b[1;33m-\u001b[0m\u001b[1;36m1\u001b[0m\u001b[1;33m)\u001b[0m \u001b[1;31m# calculate the distances reached by each walker\u001b[0m\u001b[1;33m\u001b[0m\u001b[1;33m\u001b[0m\u001b[0m\n\u001b[0;32m     12\u001b[0m \u001b[0mreached\u001b[0m \u001b[1;33m=\u001b[0m \u001b[0mnp\u001b[0m\u001b[1;33m.\u001b[0m\u001b[0munique\u001b[0m\u001b[1;33m(\u001b[0m\u001b[0mnp\u001b[0m\u001b[1;33m.\u001b[0m\u001b[0mwhere\u001b[0m\u001b[1;33m(\u001b[0m\u001b[0mdistances\u001b[0m \u001b[1;33m>\u001b[0m \u001b[0mdisk_radius\u001b[0m\u001b[1;33m)\u001b[0m\u001b[1;33m[\u001b[0m\u001b[1;36m0\u001b[0m\u001b[1;33m]\u001b[0m\u001b[1;33m)\u001b[0m \u001b[1;31m# find the index where each walker has reached the radius of the disk\u001b[0m\u001b[1;33m\u001b[0m\u001b[1;33m\u001b[0m\u001b[0m\n",
      "\u001b[1;32m~\\AppData\\Local\\Temp\\ipykernel_32756\\1210319232.py\u001b[0m in \u001b[0;36mwalk\u001b[1;34m(walkers, steps, dims, delta)\u001b[0m\n\u001b[0;32m      9\u001b[0m \u001b[1;33m\u001b[0m\u001b[0m\n\u001b[0;32m     10\u001b[0m \u001b[1;32mdef\u001b[0m \u001b[0mwalk\u001b[0m\u001b[1;33m(\u001b[0m\u001b[0mwalkers\u001b[0m\u001b[1;33m:\u001b[0m \u001b[0mint\u001b[0m\u001b[1;33m,\u001b[0m \u001b[0msteps\u001b[0m \u001b[1;33m=\u001b[0m \u001b[1;36m100\u001b[0m\u001b[1;33m,\u001b[0m \u001b[0mdims\u001b[0m \u001b[1;33m=\u001b[0m \u001b[1;36m3\u001b[0m\u001b[1;33m,\u001b[0m \u001b[0mdelta\u001b[0m \u001b[1;33m=\u001b[0m \u001b[1;36m1\u001b[0m\u001b[1;33m)\u001b[0m\u001b[1;33m:\u001b[0m\u001b[1;33m\u001b[0m\u001b[1;33m\u001b[0m\u001b[0m\n\u001b[1;32m---> 11\u001b[1;33m     \u001b[0mwalks\u001b[0m \u001b[1;33m=\u001b[0m \u001b[1;36m2\u001b[0m\u001b[1;33m*\u001b[0m\u001b[0mnp\u001b[0m\u001b[1;33m.\u001b[0m\u001b[0mrandom\u001b[0m\u001b[1;33m.\u001b[0m\u001b[0mrand\u001b[0m\u001b[1;33m(\u001b[0m\u001b[0mwalkers\u001b[0m\u001b[1;33m,\u001b[0m\u001b[0msteps\u001b[0m\u001b[1;33m,\u001b[0m \u001b[0mdims\u001b[0m\u001b[1;33m)\u001b[0m\u001b[1;33m-\u001b[0m\u001b[1;36m1\u001b[0m\u001b[1;33m\u001b[0m\u001b[1;33m\u001b[0m\u001b[0m\n\u001b[0m\u001b[0;32m     12\u001b[0m     \u001b[0mwalks\u001b[0m \u001b[1;33m*=\u001b[0m \u001b[0mdelta\u001b[0m\u001b[1;33m\u001b[0m\u001b[1;33m\u001b[0m\u001b[0m\n\u001b[0;32m     13\u001b[0m     \u001b[0mdist\u001b[0m \u001b[1;33m=\u001b[0m \u001b[0mnp\u001b[0m\u001b[1;33m.\u001b[0m\u001b[0mcumsum\u001b[0m\u001b[1;33m(\u001b[0m\u001b[0mwalks\u001b[0m\u001b[1;33m,\u001b[0m \u001b[0maxis\u001b[0m \u001b[1;33m=\u001b[0m \u001b[1;36m1\u001b[0m\u001b[1;33m)\u001b[0m\u001b[1;33m\u001b[0m\u001b[1;33m\u001b[0m\u001b[0m\n",
      "\u001b[1;31mMemoryError\u001b[0m: Unable to allocate 23.8 GiB for an array with shape (100000, 16000, 2) and data type float64"
     ]
    }
   ],
   "source": [
    "disk_radius = 100\n",
    "delta = 3\n",
    "total_steps_lst = []\n",
    "precision = 5\n",
    "num_charges = 5\n",
    "walkers = np.power(10,precision) # the number of walkers to generate to extract the data from\n",
    "dims = 2 # the dimension of the random walk simulation\n",
    "total_steps = 80000 # the initial total steps needed so that charges will move across the radius of the disk\n",
    "steps = int(total_steps/num_charges) # get the step needed per charge\n",
    "distances = walk(walkers, steps, dims, delta = delta) # return the random walk data\n",
    "distances = np.linalg.norm(distances,axis=-1) # calculate the distances reached by each walker\n",
    "reached = np.unique(np.where(distances > disk_radius)[0]) # find the index where each walker has reached the radius of the disk\n",
    "print('random walk data', len(reached), len(reached)/walkers, int(total_steps)) # print the data"
   ]
  },
  {
   "attachments": {},
   "cell_type": "markdown",
   "metadata": {},
   "source": [
    "As with the calculation of the standard deviation stability to a number of decimal places, without rigourous rewriting of the program and splitting arrays carefully for everypossible charge number and for each system that the code is run on, as i use both my laptop and my computer, it isn't faesible to go up above 10^4 as my computer started crashing and I couldn't obtain any proper data.\n",
    "I know the problem lies in generating very large arrays, and a mixture of memmapping the arrayss and feeding them through the harddisk can have a possible solution to working with this, I believe this is outside the scope of what a computational physics course should be doing, If I wanted to do this for some random project I would have chosen computer science.\n",
    "\n",
    "Especially as these techniques aren't taught in the course!"
   ]
  }
 ],
 "metadata": {
  "kernelspec": {
   "display_name": "base",
   "language": "python",
   "name": "python3"
  },
  "language_info": {
   "codemirror_mode": {
    "name": "ipython",
    "version": 3
   },
   "file_extension": ".py",
   "mimetype": "text/x-python",
   "name": "python",
   "nbconvert_exporter": "python",
   "pygments_lexer": "ipython3",
   "version": "3.9.13"
  },
  "orig_nbformat": 4
 },
 "nbformat": 4,
 "nbformat_minor": 2
}
