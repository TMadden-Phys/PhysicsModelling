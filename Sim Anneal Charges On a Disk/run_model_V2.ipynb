{
 "cells": [
  {
   "attachments": {},
   "cell_type": "markdown",
   "metadata": {},
   "source": [
    "This Jupyter notebook makes use of the Library of Simulations and Base funcs to automatically run a simulation for a number of charges and a set number of simulations. Making use of a random walk simulation to calculate the temperature reduction needed, and generating lots of initial coordinates to calculate the standard deviation fo energies to get the correct initial temperature value."
   ]
  },
  {
   "cell_type": "code",
   "execution_count": 9,
   "metadata": {},
   "outputs": [
    {
     "name": "stdout",
     "output_type": "stream",
     "text": [
      "Running simulation for 20 charges\n",
      "Running 200 simulations\n"
     ]
    },
    {
     "ename": "KeyboardInterrupt",
     "evalue": "",
     "output_type": "error",
     "traceback": [
      "\u001b[1;31m---------------------------------------------------------------------------\u001b[0m",
      "\u001b[1;31mKeyboardInterrupt\u001b[0m                         Traceback (most recent call last)",
      "\u001b[1;32m~\\AppData\\Local\\Temp\\ipykernel_39332\\3063637806.py\u001b[0m in \u001b[0;36m<module>\u001b[1;34m\u001b[0m\n\u001b[0;32m     85\u001b[0m               \u001b[0msims_dict\u001b[0m\u001b[1;33m[\u001b[0m\u001b[1;34m'{}'\u001b[0m\u001b[1;33m.\u001b[0m\u001b[0mformat\u001b[0m\u001b[1;33m(\u001b[0m\u001b[0mi\u001b[0m\u001b[1;33m)\u001b[0m\u001b[1;33m]\u001b[0m\u001b[1;33m[\u001b[0m\u001b[1;34m'inital temperature'\u001b[0m\u001b[1;33m]\u001b[0m\u001b[1;33m,\u001b[0m\u001b[0;31m\\\u001b[0m\u001b[1;33m\u001b[0m\u001b[1;33m\u001b[0m\u001b[0m\n\u001b[0;32m     86\u001b[0m                   \u001b[0msims_dict\u001b[0m\u001b[1;33m[\u001b[0m\u001b[1;34m'{}'\u001b[0m\u001b[1;33m.\u001b[0m\u001b[0mformat\u001b[0m\u001b[1;33m(\u001b[0m\u001b[0mi\u001b[0m\u001b[1;33m)\u001b[0m\u001b[1;33m]\u001b[0m\u001b[1;33m[\u001b[0m\u001b[1;34m'sigma'\u001b[0m\u001b[1;33m]\u001b[0m\u001b[1;33m,\u001b[0m\u001b[0;31m\\\u001b[0m\u001b[1;33m\u001b[0m\u001b[1;33m\u001b[0m\u001b[0m\n\u001b[1;32m---> 87\u001b[1;33m                      \u001b[0msims_dict\u001b[0m\u001b[1;33m[\u001b[0m\u001b[1;34m'{}'\u001b[0m\u001b[1;33m.\u001b[0m\u001b[0mformat\u001b[0m\u001b[1;33m(\u001b[0m\u001b[0mi\u001b[0m\u001b[1;33m)\u001b[0m\u001b[1;33m]\u001b[0m\u001b[1;33m[\u001b[0m\u001b[1;34m'temperature reduction'\u001b[0m\u001b[1;33m]\u001b[0m \u001b[1;33m=\u001b[0m \u001b[0mtotal_sim\u001b[0m\u001b[1;33m(\u001b[0m\u001b[0msim_num\u001b[0m\u001b[1;33m,\u001b[0m \u001b[0mi\u001b[0m\u001b[1;33m)\u001b[0m\u001b[1;33m\u001b[0m\u001b[1;33m\u001b[0m\u001b[0m\n\u001b[0m\u001b[0;32m     88\u001b[0m     \u001b[0msims_dict\u001b[0m\u001b[1;33m[\u001b[0m\u001b[1;34m'{}'\u001b[0m\u001b[1;33m.\u001b[0m\u001b[0mformat\u001b[0m\u001b[1;33m(\u001b[0m\u001b[0mi\u001b[0m\u001b[1;33m)\u001b[0m\u001b[1;33m]\u001b[0m\u001b[1;33m[\u001b[0m\u001b[1;34m'simulations'\u001b[0m\u001b[1;33m]\u001b[0m \u001b[1;33m=\u001b[0m \u001b[0msim_num\u001b[0m\u001b[1;33m\u001b[0m\u001b[1;33m\u001b[0m\u001b[0m\n\u001b[0;32m     89\u001b[0m     \u001b[1;32mtry\u001b[0m\u001b[1;33m:\u001b[0m\u001b[1;33m\u001b[0m\u001b[1;33m\u001b[0m\u001b[0m\n",
      "\u001b[1;32m~\\AppData\\Local\\Temp\\ipykernel_39332\\3063637806.py\u001b[0m in \u001b[0;36mtotal_sim\u001b[1;34m(re_runs, num_charges)\u001b[0m\n\u001b[0;32m     38\u001b[0m         \u001b[0mdistances\u001b[0m \u001b[1;33m=\u001b[0m \u001b[0mnp\u001b[0m\u001b[1;33m.\u001b[0m\u001b[0mlinalg\u001b[0m\u001b[1;33m.\u001b[0m\u001b[0mnorm\u001b[0m\u001b[1;33m(\u001b[0m\u001b[0mdistances\u001b[0m\u001b[1;33m,\u001b[0m\u001b[0maxis\u001b[0m\u001b[1;33m=\u001b[0m\u001b[1;33m-\u001b[0m\u001b[1;36m1\u001b[0m\u001b[1;33m)\u001b[0m \u001b[1;31m# calculate the distance\u001b[0m\u001b[1;33m\u001b[0m\u001b[1;33m\u001b[0m\u001b[0m\n\u001b[0;32m     39\u001b[0m         \u001b[0mradius\u001b[0m \u001b[1;33m=\u001b[0m \u001b[1;36m100\u001b[0m\u001b[1;33m\u001b[0m\u001b[1;33m\u001b[0m\u001b[0m\n\u001b[1;32m---> 40\u001b[1;33m         \u001b[0mreached\u001b[0m \u001b[1;33m=\u001b[0m \u001b[0mnp\u001b[0m\u001b[1;33m.\u001b[0m\u001b[0munique\u001b[0m\u001b[1;33m(\u001b[0m\u001b[0mnp\u001b[0m\u001b[1;33m.\u001b[0m\u001b[0mwhere\u001b[0m\u001b[1;33m(\u001b[0m\u001b[0mdistances\u001b[0m \u001b[1;33m>\u001b[0m \u001b[0mradius\u001b[0m\u001b[1;33m)\u001b[0m\u001b[1;33m[\u001b[0m\u001b[1;36m0\u001b[0m\u001b[1;33m]\u001b[0m\u001b[1;33m)\u001b[0m \u001b[1;31m# calcualte how many walkers reached the radius\u001b[0m\u001b[1;33m\u001b[0m\u001b[1;33m\u001b[0m\u001b[0m\n\u001b[0m\u001b[0;32m     41\u001b[0m         \u001b[0mtotal_steps\u001b[0m \u001b[1;33m*=\u001b[0m \u001b[1;36m1.1\u001b[0m \u001b[1;31m# increase the total steps by 10%\u001b[0m\u001b[1;33m\u001b[0m\u001b[1;33m\u001b[0m\u001b[0m\n\u001b[0;32m     42\u001b[0m     \u001b[0mprint\u001b[0m\u001b[1;33m(\u001b[0m\u001b[1;34m'random walk data'\u001b[0m\u001b[1;33m,\u001b[0m \u001b[0mlen\u001b[0m\u001b[1;33m(\u001b[0m\u001b[0mreached\u001b[0m\u001b[1;33m)\u001b[0m\u001b[1;33m,\u001b[0m \u001b[0mlen\u001b[0m\u001b[1;33m(\u001b[0m\u001b[0mreached\u001b[0m\u001b[1;33m)\u001b[0m\u001b[1;33m/\u001b[0m\u001b[0mwalkers\u001b[0m\u001b[1;33m,\u001b[0m \u001b[0mint\u001b[0m\u001b[1;33m(\u001b[0m\u001b[0mtotal_steps\u001b[0m\u001b[1;33m)\u001b[0m\u001b[1;33m)\u001b[0m \u001b[1;31m# print the data\u001b[0m\u001b[1;33m\u001b[0m\u001b[1;33m\u001b[0m\u001b[0m\n",
      "\u001b[1;32m<__array_function__ internals>\u001b[0m in \u001b[0;36mwhere\u001b[1;34m(*args, **kwargs)\u001b[0m\n",
      "\u001b[1;31mKeyboardInterrupt\u001b[0m: "
     ]
    }
   ],
   "source": [
    "import matplotlib.pyplot as plt\n",
    "import numpy as np\n",
    "# imports my own created library\n",
    "import ChargedDisk.Simulation as sim\n",
    "from ChargedDisk.BaseFuncs import Mult_pass as MP\n",
    "from ChargedDisk.BaseFuncs import Single_pass as SP\n",
    "import math\n",
    "import time\n",
    "# so it updates in main\n",
    "# the random walk function, very simple\n",
    "def walk(walkers: int, steps = 100, dims = 3, delta = 1):\n",
    "    walks = 2*np.random.rand(walkers,steps, dims)-1\n",
    "    walks *= delta\n",
    "    dist = np.cumsum(walks, axis = 1)\n",
    "    return dist\n",
    "\n",
    "\n",
    "def total_sim(re_runs, num_charges):\n",
    "    print('Running simulation for {} charges'.format(num_charges))\n",
    "    print('Running {} simulations'.format(re_runs))\n",
    "\n",
    "    disk_radius = 100 # choice of disk radius, arbitrarily chose 100\n",
    "    P = 0.9 # the initial probability of accepting a higher energy change\n",
    "    delta = 3 # the delta or the multiplier for each random movement of a charge\n",
    "    charge_movements = 100 # the number of charge movements per temperature reduction\n",
    "    precision = 4\n",
    "    walkers = np.power(10,precision) # the number of walkers to generate to extract the data from\n",
    "    dims = 2 # the dimension of the random walk simulation\n",
    "    total_steps = 10*num_charges # the initial total steps needed so that charges will move across the radius of the disk\n",
    "    steps = int(total_steps/num_charges) # get the step needed per charge\n",
    "    distances = walk(walkers, steps, dims, delta = delta) # return the random walk data\n",
    "    distances = np.linalg.norm(distances,axis=-1) # calculate the distances reached by each walker\n",
    "    reached = np.unique(np.where(distances > disk_radius)[0]) # find the index where each walker has reached the radius of the disk\n",
    "\n",
    "    while len(reached)/walkers < 0.95: # while the probability of each walker reaching the radius of the disk\n",
    "        steps = int(total_steps/num_charges) # calculate the steps\n",
    "        distances = walk(walkers, steps, dims, delta = delta) # run the random walk sim\n",
    "        distances = np.linalg.norm(distances,axis=-1) # calculate the distance\n",
    "        radius = 100\n",
    "        reached = np.unique(np.where(distances > radius)[0]) # calcualte how many walkers reached the radius\n",
    "        total_steps *= 1.1 # increase the total steps by 10%\n",
    "    print('random walk data', len(reached), len(reached)/walkers, int(total_steps)) # print the data\n",
    "\n",
    "    accuracy = 4\n",
    "    sample_size = np.power(10,accuracy)\n",
    "    charges = MP.gen_coords(sample_size, disk_radius, num_charges)\n",
    "    energies = np.squeeze(np.round(MP.calc_energy(charges, charge=1), accuracy))\n",
    "    sigma = np.std(energies) # calculate the standard deviation\n",
    "\n",
    "    temp = - 3 / math.log(P)\n",
    "    temp *= sigma # calculate the initial temperature from the standard deviation \n",
    "    print('initial temperature', temp)\n",
    "    t0 = temp\n",
    "    precision = 6 # chooses the precision of the temperature reduction\n",
    "    log = -np.log(t0*np.log(2))\n",
    "    R = np.arange(0.95,1,np.power(float(np.power(10,precision)),-1))\n",
    "    R = np.delete(R,-1)\n",
    "    calc = np.log(R)\n",
    "    calc = np.power(calc,-1)\n",
    "    vals = np.stack((log*calc, R), axis = 1) # calculates the number of iterations for the probability to reach 50% chance of accepting a higher energy state for different reductions in temperature\n",
    "    lowest_iters = vals[vals[:,0] > int(total_steps/charge_movements)] # finds the reduction value that gives the number of iterations needed (calculated from random walk)\n",
    "\n",
    "    reduct = round(lowest_iters[0,1],precision+1) # rounds the reduciton of temperature value\n",
    "    print('total steps needed and reduction value:',int(total_steps), round(reduct,precision+1))\n",
    "    t0 = time.perf_counter()\n",
    "    # runs the simuilation with the calcualted intial conditions\n",
    "    coords, energies, iterations = sim.Run_Sim_MP(\\\n",
    "        disk_radius, num_charges, delta = delta, temp = temp, charge_movements = charge_movements,runs = re_runs, decimals = 8, reduction=reduct)\n",
    "    print('time taken {} minutes {} seconds'.format(*divmod(time.perf_counter()-t0,60)))\n",
    "    # finds the lowest energy state from all the simulations run\n",
    "    lowest_state = np.where(energies[:,-1] == np.min(energies[:,-1]))\n",
    "    # returns the lowest state charge coordinates and the energy\n",
    "    return np.squeeze(coords[lowest_state]), np.squeeze(energies[lowest_state]), temp, sigma, reduct\n",
    "\n",
    "sims_dict = {} # creates a dictionary so that simulation data can be stored\n",
    "sim_num = 200\n",
    "for i in range(20, 40):\n",
    "    # creates a dictionary for each number of charges and then saves the simulation data to a file\n",
    "    sims_dict['{}'.format(i)] = {}\n",
    "    sims_dict['{}'.format(i)]['coords'],\\\n",
    "          sims_dict['{}'.format(i)]['energies'],\\\n",
    "              sims_dict['{}'.format(i)]['inital temperature'],\\\n",
    "                  sims_dict['{}'.format(i)]['sigma'],\\\n",
    "                     sims_dict['{}'.format(i)]['temperature reduction'] = total_sim(sim_num, i)\n",
    "    sims_dict['{}'.format(i)]['simulations'] = sim_num\n",
    "    try:\n",
    "        with np.load('models/simulation {} charges.npz'.format(i)) as data:\n",
    "            data = dict(data)\n",
    "            sims_dict['{}'.format(i)]['simulations'] += data['simulations']\n",
    "            if sims_dict['{}'.format(i)]['energies'][-1] < data['energies'][-1]:\n",
    "                np.savez('models/simulation {} charges.npz'.format(i), **sims_dict['{}'.format(i)])\n",
    "            else:\n",
    "                data['simulations'] += sim_num\n",
    "                np.savez('models/simulation {} charges.npz'.format(i), **data)\n",
    "    except:\n",
    "        print('no sims run for this number of charges')\n",
    "        np.savez('models/simulation {} charges.npz'.format(i), **sims_dict['{}'.format(i)])"
   ]
  }
 ],
 "metadata": {
  "kernelspec": {
   "display_name": "Python 3",
   "language": "python",
   "name": "python3"
  },
  "language_info": {
   "codemirror_mode": {
    "name": "ipython",
    "version": 3
   },
   "file_extension": ".py",
   "mimetype": "text/x-python",
   "name": "python",
   "nbconvert_exporter": "python",
   "pygments_lexer": "ipython3",
   "version": "3.9.13"
  },
  "orig_nbformat": 4,
  "vscode": {
   "interpreter": {
    "hash": "1b828c5e413a4528cbfbd6a3cdac10339682b65bb22b82e4bda3819b3b0d808c"
   }
  }
 },
 "nbformat": 4,
 "nbformat_minor": 2
}
